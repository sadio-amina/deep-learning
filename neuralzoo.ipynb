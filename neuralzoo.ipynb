{
 "cells": [
  {
   "cell_type": "code",
   "execution_count": 1,
   "id": "f95a137c",
   "metadata": {},
   "outputs": [
    {
     "name": "stderr",
     "output_type": "stream",
     "text": [
      "C:\\Users\\ho.asadio\\Anaconda3\\lib\\site-packages\\scipy\\__init__.py:146: UserWarning: A NumPy version >=1.16.5 and <1.23.0 is required for this version of SciPy (detected version 1.25.0\n",
      "  warnings.warn(f\"A NumPy version >={np_minversion} and <{np_maxversion}\"\n"
     ]
    }
   ],
   "source": [
    "import numpy as np\n",
    "import pandas as pd\n",
    "import pickle\n",
    "\n",
    "import matplotlib.pyplot as plt\n",
    "\n",
    "from sklearn.model_selection import train_test_split\n",
    "\n",
    "import tensorflow as tf\n",
    "from tensorflow import keras\n",
    "from tensorflow.keras.models import Sequential\n",
    "from tensorflow.keras.layers import Dense, BatchNormalization, Dropout, Flatten"
   ]
  },
  {
   "cell_type": "code",
   "execution_count": 2,
   "id": "2d78865f",
   "metadata": {},
   "outputs": [],
   "source": [
    "def unpickle(file):\n",
    "    \n",
    "    with open(file, 'rb') as fo:\n",
    "        dict = pickle.load(fo, encoding='bytes')\n",
    "    return dict"
   ]
  },
  {
   "cell_type": "code",
   "execution_count": 3,
   "id": "9319ad1c",
   "metadata": {},
   "outputs": [],
   "source": [
    "def load_cifar10(path):\n",
    "    data_images= []\n",
    "    labels = []\n",
    "    \n",
    "    for i in range(1, 6):\n",
    "        batch = unpickle(path + f'data_batch_{i}')\n",
    "        data_images.append(batch[b'data'])\n",
    "        labels.extend(batch[b'labels'])\n",
    "        \n",
    "    test_batch = unpickle(path + 'test_batch')\n",
    "    test_images = test_batch[b'data']\n",
    "    test_labels = test_batch[b'labels']\n",
    "        \n",
    "    return data_images, np.array(labels),  test_images, np.array(test_labels)"
   ]
  },
  {
   "cell_type": "code",
   "execution_count": 4,
   "id": "b480348d",
   "metadata": {},
   "outputs": [],
   "source": [
    "cif_path = \"C:/Users/ho.asadio/Desktop/deep_learning/cifar-10-python/cifar-10-batches-py/\""
   ]
  },
  {
   "cell_type": "code",
   "execution_count": 5,
   "id": "256d3aeb",
   "metadata": {},
   "outputs": [],
   "source": [
    "data_images, labels, test_images, test_labels = load_cifar10(cif_path)        "
   ]
  },
  {
   "cell_type": "code",
   "execution_count": 6,
   "id": "6fe08e0d",
   "metadata": {},
   "outputs": [],
   "source": [
    "data_images = np.vstack(data_images)"
   ]
  },
  {
   "cell_type": "markdown",
   "id": "3663819f",
   "metadata": {},
   "source": [
    "#### Filtrer les images des animaux "
   ]
  },
  {
   "cell_type": "code",
   "execution_count": 7,
   "id": "a59459cf",
   "metadata": {},
   "outputs": [],
   "source": [
    "animal_classes = [2,3,4,5,6,7]"
   ]
  },
  {
   "cell_type": "code",
   "execution_count": 8,
   "id": "b75e2ec6",
   "metadata": {},
   "outputs": [],
   "source": [
    "# Filtrage des données\n",
    "train_animal_images =[image for image, label in zip(data_images, labels) if label in animal_classes]\n",
    "train_animal_labels = [label for label in labels if label in animal_classes]"
   ]
  },
  {
   "cell_type": "code",
   "execution_count": 9,
   "id": "2d579f90",
   "metadata": {},
   "outputs": [],
   "source": [
    "#conversion en tableaux numpy\n",
    "train_animal_images = np.array(train_animal_images)\n",
    "train_animal_labels = np.array(train_animal_labels)"
   ]
  },
  {
   "cell_type": "code",
   "execution_count": 10,
   "id": "479406c5",
   "metadata": {},
   "outputs": [],
   "source": [
    "# Filtrage des données\n",
    "test_animal_images =[image for image, label in zip(test_images, test_labels) if label in animal_classes]\n",
    "test_animal_labels = [label for label in test_labels if label in animal_classes]"
   ]
  },
  {
   "cell_type": "code",
   "execution_count": 11,
   "id": "fc2fae53",
   "metadata": {},
   "outputs": [],
   "source": [
    "test_animal_images = np.array(test_animal_images)\n",
    "test_animal_labels = np.array(test_animal_labels)"
   ]
  },
  {
   "cell_type": "markdown",
   "id": "7a93a7a6",
   "metadata": {},
   "source": [
    "#### Définir les variables d'entrainement et de validation"
   ]
  },
  {
   "cell_type": "code",
   "execution_count": 40,
   "id": "9b1976f6",
   "metadata": {},
   "outputs": [],
   "source": [
    "X_train = train_animal_images\n",
    "y_train = train_animal_labels"
   ]
  },
  {
   "cell_type": "code",
   "execution_count": 41,
   "id": "195c8ea2",
   "metadata": {},
   "outputs": [],
   "source": [
    "X_test = test_animal_images\n",
    "y_test = test_animal_labels"
   ]
  },
  {
   "cell_type": "code",
   "execution_count": 42,
   "id": "1d8605fc",
   "metadata": {},
   "outputs": [],
   "source": [
    "X_train = train_animal_images / 255.0\n",
    "X_test = test_animal_images / 255.0"
   ]
  },
  {
   "cell_type": "code",
   "execution_count": 43,
   "id": "9b27b14a",
   "metadata": {},
   "outputs": [],
   "source": [
    "num_classes= 6"
   ]
  },
  {
   "cell_type": "code",
   "execution_count": 44,
   "id": "3ea7e2e1",
   "metadata": {},
   "outputs": [],
   "source": [
    "y_train_encoded = tf.one_hot(y_train, num_classes)\n",
    "y_test_encoded =  tf.one_hot(y_test, num_classes)"
   ]
  },
  {
   "cell_type": "markdown",
   "id": "d7b6b5cf",
   "metadata": {},
   "source": [
    "##### initialiser le modèle et ajouter les couches "
   ]
  },
  {
   "cell_type": "code",
   "execution_count": 17,
   "id": "c340df69",
   "metadata": {},
   "outputs": [],
   "source": [
    "model = Sequential()\n",
    "model.add(Dense(3000, activation='relu', input_shape = (3072,)))\n",
    "model.add(Dense(128, activation='relu'))\n",
    "model.add(Dense(6, activation ='softmax'))"
   ]
  },
  {
   "cell_type": "code",
   "execution_count": 18,
   "id": "79fe56b0",
   "metadata": {},
   "outputs": [
    {
     "name": "stdout",
     "output_type": "stream",
     "text": [
      "Model: \"sequential\"\n",
      "_________________________________________________________________\n",
      " Layer (type)                Output Shape              Param #   \n",
      "=================================================================\n",
      " dense (Dense)               (None, 3000)              9219000   \n",
      "                                                                 \n",
      " dense_1 (Dense)             (None, 128)               384128    \n",
      "                                                                 \n",
      " dense_2 (Dense)             (None, 6)                 774       \n",
      "                                                                 \n",
      "=================================================================\n",
      "Total params: 9,603,902\n",
      "Trainable params: 9,603,902\n",
      "Non-trainable params: 0\n",
      "_________________________________________________________________\n"
     ]
    }
   ],
   "source": [
    "model.summary()"
   ]
  },
  {
   "cell_type": "code",
   "execution_count": 19,
   "id": "f7b30e4a",
   "metadata": {},
   "outputs": [],
   "source": [
    "model.compile(loss='categorical_crossentropy', optimizer='adam', metrics=['accuracy'])"
   ]
  },
  {
   "cell_type": "code",
   "execution_count": 20,
   "id": "0327de31",
   "metadata": {
    "scrolled": true
   },
   "outputs": [
    {
     "name": "stdout",
     "output_type": "stream",
     "text": [
      "Epoch 1/10\n",
      "469/469 [==============================] - 84s 175ms/step - loss: 634.5349 - accuracy: 0.1671 - val_loss: 2620.5916 - val_accuracy: 0.1667\n",
      "Epoch 2/10\n",
      "469/469 [==============================] - 82s 174ms/step - loss: 5997.9761 - accuracy: 0.1691 - val_loss: 7662.6655 - val_accuracy: 0.1667\n",
      "Epoch 3/10\n",
      "469/469 [==============================] - 80s 171ms/step - loss: 15922.6221 - accuracy: 0.1681 - val_loss: 14874.4668 - val_accuracy: 0.1667\n",
      "Epoch 4/10\n",
      "469/469 [==============================] - 86s 182ms/step - loss: 41240.5664 - accuracy: 0.1666 - val_loss: 74473.5234 - val_accuracy: 0.1667\n",
      "Epoch 5/10\n",
      "469/469 [==============================] - 87s 185ms/step - loss: 59428.1953 - accuracy: 0.1639 - val_loss: 114806.8359 - val_accuracy: 0.1667\n",
      "Epoch 6/10\n",
      "469/469 [==============================] - 88s 188ms/step - loss: 89124.1953 - accuracy: 0.1669 - val_loss: 79997.1016 - val_accuracy: 0.1667\n",
      "Epoch 7/10\n",
      "469/469 [==============================] - 86s 184ms/step - loss: 119730.9297 - accuracy: 0.1632 - val_loss: 140086.5938 - val_accuracy: 0.1667\n",
      "Epoch 8/10\n",
      "469/469 [==============================] - 85s 182ms/step - loss: 155730.2656 - accuracy: 0.1640 - val_loss: 55533.1094 - val_accuracy: 0.1667\n",
      "Epoch 9/10\n",
      "469/469 [==============================] - 89s 189ms/step - loss: 184903.7344 - accuracy: 0.1677 - val_loss: 123097.9609 - val_accuracy: 0.1667\n",
      "Epoch 10/10\n",
      "469/469 [==============================] - 83s 178ms/step - loss: 220886.2188 - accuracy: 0.1665 - val_loss: 274105.5000 - val_accuracy: 0.1667\n"
     ]
    }
   ],
   "source": [
    "# fit the keras model on the dataset\n",
    "history= model.fit(X_train, y_train_encoded, epochs =10, batch_size=64, validation_data = (X_test, y_test_encoded))"
   ]
  },
  {
   "cell_type": "code",
   "execution_count": 21,
   "id": "4942c40f",
   "metadata": {
    "scrolled": true
   },
   "outputs": [
    {
     "data": {
      "text/plain": [
       "Text(0, 0.5, 'Loss')"
      ]
     },
     "execution_count": 21,
     "metadata": {},
     "output_type": "execute_result"
    },
    {
     "data": {
      "image/png": "[encoded data removed]",
      "text/plain": [
       "<Figure size 720x288 with 2 Axes>"
      ]
     },
     "metadata": {
      "needs_background": "light"
     },
     "output_type": "display_data"
    }
   ],
   "source": [
    "## Visualisation des performances \n",
    "\n",
    "import seaborn as sns\n",
    "fig, (ax1, ax2) = plt.subplots(1, 2, figsize=(10, 4))\n",
    "fig.suptitle(\"MLP Model Accuracy and Loss\")\n",
    "\n",
    "sns.lineplot(x=history.epoch, y= history.history['accuracy'], label= \"Train accuracy\", ax=ax1)\n",
    "sns.lineplot(x=history.epoch, y= history.history['val_accuracy'], label= \"Validation accuracy\", ax=ax1, color=\"red\")\n",
    "\n",
    "ax1.set_xlabel(\"Epochs\")\n",
    "ax1.set_ylabel(\"Accuracy\")\n",
    "\n",
    "\n",
    "#########################\n",
    "\n",
    "sns.lineplot(x=history.epoch, y= history.history['loss'], label= \"Train loss\", ax=ax2)\n",
    "sns.lineplot(x=history.epoch, y= history.history['val_loss'], label= \"Validation loss\", ax=ax2, color=\"red\")\n",
    "\n",
    "ax2.set_xlabel(\"Epochs\")\n",
    "ax2.set_ylabel(\"Loss\")\n"
   ]
  },
  {
   "cell_type": "markdown",
   "id": "5d92da04",
   "metadata": {},
   "source": [
    "#### Ajout la couche de normalisation"
   ]
  },
  {
   "cell_type": "code",
   "execution_count": 22,
   "id": "c4390eb2",
   "metadata": {},
   "outputs": [],
   "source": [
    "model1 = Sequential()\n",
    "\n",
    "model1.add(Dense(3000, activation='relu', input_shape = (3072,)))\n",
    "model1.add(BatchNormalization())\n",
    "model1.add(Dense(128, activation='relu'))\n",
    "model1.add(BatchNormalization())\n",
    "model1.add(Dense(6, activation ='softmax'))"
   ]
  },
  {
   "cell_type": "code",
   "execution_count": 23,
   "id": "503d2b8b",
   "metadata": {},
   "outputs": [
    {
     "name": "stdout",
     "output_type": "stream",
     "text": [
      "Model: \"sequential_1\"\n",
      "_________________________________________________________________\n",
      " Layer (type)                Output Shape              Param #   \n",
      "=================================================================\n",
      " dense_3 (Dense)             (None, 3000)              9219000   \n",
      "                                                                 \n",
      " batch_normalization (BatchN  (None, 3000)             12000     \n",
      " ormalization)                                                   \n",
      "                                                                 \n",
      " dense_4 (Dense)             (None, 128)               384128    \n",
      "                                                                 \n",
      " batch_normalization_1 (Batc  (None, 128)              512       \n",
      " hNormalization)                                                 \n",
      "                                                                 \n",
      " dense_5 (Dense)             (None, 6)                 774       \n",
      "                                                                 \n",
      "=================================================================\n",
      "Total params: 9,616,414\n",
      "Trainable params: 9,610,158\n",
      "Non-trainable params: 6,256\n",
      "_________________________________________________________________\n"
     ]
    }
   ],
   "source": [
    "model1.summary()"
   ]
  },
  {
   "cell_type": "code",
   "execution_count": 24,
   "id": "f5147caf",
   "metadata": {},
   "outputs": [],
   "source": [
    "model1.compile(loss='categorical_crossentropy', optimizer='adam', metrics=['accuracy'])"
   ]
  },
  {
   "cell_type": "code",
   "execution_count": 25,
   "id": "b8c51f6b",
   "metadata": {},
   "outputs": [
    {
     "name": "stdout",
     "output_type": "stream",
     "text": [
      "Epoch 1/10\n",
      "469/469 [==============================] - 78s 162ms/step - loss: 0.9345 - accuracy: 0.2755 - val_loss: 1.1579 - val_accuracy: 0.2112\n",
      "Epoch 2/10\n",
      "469/469 [==============================] - 76s 163ms/step - loss: 0.8932 - accuracy: 0.2742 - val_loss: 1.0985 - val_accuracy: 0.2067\n",
      "Epoch 3/10\n",
      "469/469 [==============================] - 78s 166ms/step - loss: 0.8859 - accuracy: 0.2761 - val_loss: 1.3535 - val_accuracy: 0.1697\n",
      "Epoch 4/10\n",
      "469/469 [==============================] - 82s 174ms/step - loss: 0.8773 - accuracy: 0.2787 - val_loss: 0.8917 - val_accuracy: 0.2563\n",
      "Epoch 5/10\n",
      "469/469 [==============================] - 82s 176ms/step - loss: 0.8794 - accuracy: 0.2848 - val_loss: 0.9725 - val_accuracy: 0.2570\n",
      "Epoch 6/10\n",
      "469/469 [==============================] - 82s 175ms/step - loss: 0.8769 - accuracy: 0.2836 - val_loss: 1.2155 - val_accuracy: 0.2193\n",
      "Epoch 7/10\n",
      "469/469 [==============================] - 83s 176ms/step - loss: 0.8759 - accuracy: 0.2832 - val_loss: 0.9065 - val_accuracy: 0.2682\n",
      "Epoch 8/10\n",
      "469/469 [==============================] - 89s 189ms/step - loss: 0.8821 - accuracy: 0.2807 - val_loss: 0.9240 - val_accuracy: 0.2295\n",
      "Epoch 9/10\n",
      "469/469 [==============================] - 87s 185ms/step - loss: 0.8774 - accuracy: 0.2834 - val_loss: 0.8950 - val_accuracy: 0.2577\n",
      "Epoch 10/10\n",
      "469/469 [==============================] - 84s 178ms/step - loss: 0.8781 - accuracy: 0.2822 - val_loss: 0.9693 - val_accuracy: 0.2645\n"
     ]
    }
   ],
   "source": [
    "# fit the keras model on the dataset\n",
    "history1= model1.fit(X_train, y_train_encoded, epochs =10, batch_size=64, validation_data= (X_test, y_test_encoded))"
   ]
  },
  {
   "cell_type": "code",
   "execution_count": 32,
   "id": "acf610a1",
   "metadata": {},
   "outputs": [
    {
     "data": {
      "text/plain": [
       "Text(0, 0.5, 'Loss')"
      ]
     },
     "execution_count": 32,
     "metadata": {},
     "output_type": "execute_result"
    },
    {
     "data": {
      "image/png": "[encoded data removed]",
      "text/plain": [
       "<Figure size 720x288 with 2 Axes>"
      ]
     },
     "metadata": {
      "needs_background": "light"
     },
     "output_type": "display_data"
    }
   ],
   "source": [
    "## Visualisation des performances \n",
    "\n",
    "import seaborn as sns\n",
    "fig, (ax1, ax2) = plt.subplots(1, 2, figsize=(10, 4))\n",
    "fig.suptitle(\"MLP Model Accuracy and Loss\")\n",
    "\n",
    "sns.lineplot(x=history1.epoch, y= history1.history['accuracy'], label= \"Train accuracy\", ax=ax1)\n",
    "sns.lineplot(x=history1.epoch, y= history1.history['val_accuracy'], label= \"Validation accuracy\", ax=ax1, color=\"red\")\n",
    "\n",
    "ax1.set_xlabel(\"Epochs\")\n",
    "ax1.set_ylabel(\"Accuracy\")\n",
    "\n",
    "\n",
    "#################################\n",
    "\n",
    "sns.lineplot(x=history1.epoch, y= history1.history['loss'], label= \"Train loss\", ax=ax2)\n",
    "sns.lineplot(x=history1.epoch, y= history1.history['val_loss'], label= \"Validation loss\", ax=ax2, color=\"red\")\n",
    "\n",
    "ax2.set_xlabel(\"Epochs\")\n",
    "ax2.set_ylabel(\"Loss\")\n"
   ]
  },
  {
   "cell_type": "markdown",
   "id": "0487743c",
   "metadata": {},
   "source": [
    "####  MLP avec  batch normalization et Dropout"
   ]
  },
  {
   "cell_type": "code",
   "execution_count": 27,
   "id": "1466f77d",
   "metadata": {},
   "outputs": [],
   "source": [
    "model2 = Sequential()\n",
    "\n",
    "model2.add(Dense(3000, activation='relu', input_shape = (3072,)))\n",
    "model2.add(BatchNormalization())\n",
    "model2.add(Dropout(0.5))\n",
    "model2.add(Dense(128, activation='relu'))\n",
    "\n",
    "model2.add(BatchNormalization())\n",
    "model2.add(Dropout(0.5))\n",
    "model2.add(Dense(6, activation ='softmax'))\n"
   ]
  },
  {
   "cell_type": "code",
   "execution_count": 28,
   "id": "1f7cc36d",
   "metadata": {},
   "outputs": [
    {
     "name": "stdout",
     "output_type": "stream",
     "text": [
      "Model: \"sequential_2\"\n",
      "_________________________________________________________________\n",
      " Layer (type)                Output Shape              Param #   \n",
      "=================================================================\n",
      " dense_6 (Dense)             (None, 3000)              9219000   \n",
      "                                                                 \n",
      " batch_normalization_2 (Batc  (None, 3000)             12000     \n",
      " hNormalization)                                                 \n",
      "                                                                 \n",
      " dropout (Dropout)           (None, 3000)              0         \n",
      "                                                                 \n",
      " dense_7 (Dense)             (None, 128)               384128    \n",
      "                                                                 \n",
      " batch_normalization_3 (Batc  (None, 128)              512       \n",
      " hNormalization)                                                 \n",
      "                                                                 \n",
      " dropout_1 (Dropout)         (None, 128)               0         \n",
      "                                                                 \n",
      " dense_8 (Dense)             (None, 6)                 774       \n",
      "                                                                 \n",
      "=================================================================\n",
      "Total params: 9,616,414\n",
      "Trainable params: 9,610,158\n",
      "Non-trainable params: 6,256\n",
      "_________________________________________________________________\n"
     ]
    }
   ],
   "source": [
    "model2.summary()"
   ]
  },
  {
   "cell_type": "code",
   "execution_count": 29,
   "id": "760ad38b",
   "metadata": {},
   "outputs": [],
   "source": [
    "model2.compile(loss='categorical_crossentropy', optimizer='adam', metrics=['accuracy'])"
   ]
  },
  {
   "cell_type": "code",
   "execution_count": 30,
   "id": "67d3727d",
   "metadata": {},
   "outputs": [
    {
     "name": "stdout",
     "output_type": "stream",
     "text": [
      "Epoch 1/10\n",
      "469/469 [==============================] - 79s 166ms/step - loss: 1.1517 - accuracy: 0.2374 - val_loss: 0.9146 - val_accuracy: 0.2882\n",
      "Epoch 2/10\n",
      "469/469 [==============================] - 79s 168ms/step - loss: 1.0069 - accuracy: 0.2245 - val_loss: 0.9356 - val_accuracy: 0.2398\n",
      "Epoch 3/10\n",
      "469/469 [==============================] - 80s 170ms/step - loss: 1.0299 - accuracy: 0.1982 - val_loss: 0.9579 - val_accuracy: 0.1873\n",
      "Epoch 4/10\n",
      "469/469 [==============================] - 85s 180ms/step - loss: 1.0440 - accuracy: 0.1889 - val_loss: 0.9574 - val_accuracy: 0.1772\n",
      "Epoch 5/10\n",
      "469/469 [==============================] - 84s 179ms/step - loss: 1.0476 - accuracy: 0.1808 - val_loss: 1.0083 - val_accuracy: 0.1868\n",
      "Epoch 6/10\n",
      "469/469 [==============================] - 81s 173ms/step - loss: 1.0425 - accuracy: 0.1798 - val_loss: 1.0214 - val_accuracy: 0.1747\n",
      "Epoch 7/10\n",
      "469/469 [==============================] - 81s 173ms/step - loss: 1.0365 - accuracy: 0.1823 - val_loss: 1.0170 - val_accuracy: 0.1815\n",
      "Epoch 8/10\n",
      "469/469 [==============================] - 81s 174ms/step - loss: 1.0282 - accuracy: 0.1829 - val_loss: 1.0066 - val_accuracy: 0.1690\n",
      "Epoch 9/10\n",
      "469/469 [==============================] - 81s 174ms/step - loss: 1.0232 - accuracy: 0.1849 - val_loss: 0.9741 - val_accuracy: 0.2087\n",
      "Epoch 10/10\n",
      "469/469 [==============================] - 82s 175ms/step - loss: 1.0178 - accuracy: 0.1855 - val_loss: 1.0013 - val_accuracy: 0.1785\n"
     ]
    }
   ],
   "source": [
    "# fit the keras model on the dataset\n",
    "history2= model2.fit(X_train, y_train_encoded, epochs =10, batch_size=64, validation_data=(X_test,y_test_encoded))"
   ]
  },
  {
   "cell_type": "code",
   "execution_count": null,
   "id": "debe035f",
   "metadata": {},
   "outputs": [],
   "source": []
  },
  {
   "cell_type": "code",
   "execution_count": 33,
   "id": "fffb60e3",
   "metadata": {},
   "outputs": [
    {
     "data": {
      "text/plain": [
       "Text(0, 0.5, 'Loss')"
      ]
     },
     "execution_count": 33,
     "metadata": {},
     "output_type": "execute_result"
    },
    {
     "data": {
      "image/png": "[encoded data removed]",
      "text/plain": [
       "<Figure size 720x288 with 2 Axes>"
      ]
     },
     "metadata": {
      "needs_background": "light"
     },
     "output_type": "display_data"
    }
   ],
   "source": [
    "import seaborn as sns\n",
    "fig, (ax1, ax2) = plt.subplots(1, 2, figsize=(10, 4))\n",
    "fig.suptitle(\"MLP Model Accuracy and Loss\")\n",
    "\n",
    "sns.lineplot(x=history2.epoch, y= history2.history['accuracy'], label= \"Train accuracy\", ax=ax1)\n",
    "sns.lineplot(x=history2.epoch, y= history2.history['val_accuracy'], label= \"Validation accuracy\", ax=ax1, color=\"red\")\n",
    "\n",
    "ax1.set_xlabel(\"Epochs\")\n",
    "ax1.set_ylabel(\"Accuracy\")\n",
    "\n",
    "\n",
    "#########################\n",
    "\n",
    "sns.lineplot(x=history2.epoch, y= history2.history['loss'], label= \"Train loss\", ax=ax2)\n",
    "sns.lineplot(x=history2.epoch, y= history2.history['val_loss'], label= \"Validation loss\", ax=ax2, color=\"red\")\n",
    "\n",
    "ax2.set_xlabel(\"Epochs\")\n",
    "ax2.set_ylabel(\"Loss\")\n",
    "\n"
   ]
  },
  {
   "cell_type": "code",
   "execution_count": 45,
   "id": "6e2f12f3",
   "metadata": {},
   "outputs": [
    {
     "name": "stdout",
     "output_type": "stream",
     "text": [
      "188/188 [==============================] - 5s 28ms/step - loss: 1.0013 - accuracy: 0.1785\n"
     ]
    }
   ],
   "source": [
    "score = model2.evaluate(X_test, y_test_encoded)"
   ]
  },
  {
   "cell_type": "code",
   "execution_count": 46,
   "id": "222fa181",
   "metadata": {},
   "outputs": [
    {
     "name": "stdout",
     "output_type": "stream",
     "text": [
      "188/188 [==============================] - 5s 26ms/step\n"
     ]
    }
   ],
   "source": [
    "pred = model2.predict(X_test)"
   ]
  },
  {
   "cell_type": "code",
   "execution_count": 47,
   "id": "334d7a97",
   "metadata": {},
   "outputs": [
    {
     "data": {
      "text/plain": [
       "array([0.06661169, 0.06886894, 0.20749567, 0.24356623, 0.14336008,\n",
       "       0.27009735], dtype=float32)"
      ]
     },
     "execution_count": 47,
     "metadata": {},
     "output_type": "execute_result"
    }
   ],
   "source": [
    "pred[0]"
   ]
  },
  {
   "cell_type": "code",
   "execution_count": 48,
   "id": "470a28c5",
   "metadata": {},
   "outputs": [
    {
     "data": {
      "text/plain": [
       "array([5, 5, 2, ..., 2, 5, 2], dtype=int64)"
      ]
     },
     "execution_count": 48,
     "metadata": {},
     "output_type": "execute_result"
    }
   ],
   "source": [
    "pred_classes = np.argmax(pred, axis = 1)\n",
    "pred_classes"
   ]
  },
  {
   "cell_type": "code",
   "execution_count": 49,
   "id": "173d2283",
   "metadata": {},
   "outputs": [
    {
     "name": "stdout",
     "output_type": "stream",
     "text": [
      "              precision    recall  f1-score   support\n",
      "\n",
      "           2       0.14      0.56      0.22      1000\n",
      "           3       0.50      0.00      0.00      1000\n",
      "           4       0.00      0.00      0.00      1000\n",
      "           5       0.26      0.51      0.35      1000\n",
      "           6       0.00      0.00      0.00      1000\n",
      "           7       0.00      0.00      0.00      1000\n",
      "\n",
      "    accuracy                           0.18      6000\n",
      "   macro avg       0.15      0.18      0.09      6000\n",
      "weighted avg       0.15      0.18      0.09      6000\n",
      "\n"
     ]
    },
    {
     "name": "stderr",
     "output_type": "stream",
     "text": [
      "C:\\Users\\ho.asadio\\Anaconda3\\lib\\site-packages\\sklearn\\metrics\\_classification.py:1318: UndefinedMetricWarning: Precision and F-score are ill-defined and being set to 0.0 in labels with no predicted samples. Use `zero_division` parameter to control this behavior.\n",
      "  _warn_prf(average, modifier, msg_start, len(result))\n",
      "C:\\Users\\ho.asadio\\Anaconda3\\lib\\site-packages\\sklearn\\metrics\\_classification.py:1318: UndefinedMetricWarning: Precision and F-score are ill-defined and being set to 0.0 in labels with no predicted samples. Use `zero_division` parameter to control this behavior.\n",
      "  _warn_prf(average, modifier, msg_start, len(result))\n",
      "C:\\Users\\ho.asadio\\Anaconda3\\lib\\site-packages\\sklearn\\metrics\\_classification.py:1318: UndefinedMetricWarning: Precision and F-score are ill-defined and being set to 0.0 in labels with no predicted samples. Use `zero_division` parameter to control this behavior.\n",
      "  _warn_prf(average, modifier, msg_start, len(result))\n"
     ]
    }
   ],
   "source": [
    "from sklearn.metrics import classification_report, confusion_matrix\n",
    "\n",
    "print(classification_report(y_test, pred_classes))"
   ]
  },
  {
   "cell_type": "code",
   "execution_count": 50,
   "id": "4a5b253d",
   "metadata": {
    "scrolled": true
   },
   "outputs": [
    {
     "data": {
      "image/png": "[encoded data removed]",
      "text/plain": [
       "<Figure size 864x720 with 1 Axes>"
      ]
     },
     "metadata": {
      "needs_background": "light"
     },
     "output_type": "display_data"
    }
   ],
   "source": [
    "import seaborn as sns\n",
    "cm = confusion_matrix(y_test, pred_classes)\n",
    "\n",
    "fig, ax = plt.subplots(figsize =(12,10))\n",
    "\n",
    "sns.heatmap(cm, annot= True,fmt ='d', cmap='Blues', cbar= False, ax =ax)\n",
    "\n",
    "ax.set_xlabel('Predicted labels')\n",
    "ax.set_ylabel('True labels')\n",
    "ax.set_title('Confuxion Matrix')\n",
    "\n",
    "plt.show()"
   ]
  },
  {
   "cell_type": "markdown",
   "id": "d690e2b7",
   "metadata": {},
   "source": [
    "Le modèle de MLP sur les images des animaux donne des accuracy très faibles et des valeurs de loss qui augmentent progressivement.\n",
    "Le modèle ne travaille pas . Cependant, lorsqu'on ajoute des couches de normalisation, de dropout, le modèle commence à apprendre mais très\n",
    "faiblement. Ces  deux évenements nous permettent de conclure que le modèle de perceptron multicouches semblent ne pas pouvoir\n",
    "traiter les données d'images donc pas adapté. "
   ]
  }
 ],
 "metadata": {
  "kernelspec": {
   "display_name": "Python 3 (ipykernel)",
   "language": "python",
   "name": "python3"
  },
  "language_info": {
   "codemirror_mode": {
    "name": "ipython",
    "version": 3
   },
   "file_extension": ".py",
   "mimetype": "text/x-python",
   "name": "python",
   "nbconvert_exporter": "python",
   "pygments_lexer": "ipython3",
   "version": "3.9.12"
  }
 },
 "nbformat": 4,
 "nbformat_minor": 5
}
